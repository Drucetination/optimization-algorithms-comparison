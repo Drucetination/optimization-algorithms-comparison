{
 "cells": [
  {
   "cell_type": "code",
   "execution_count": 1,
   "metadata": {
    "collapsed": true
   },
   "outputs": [],
   "source": [
    "from optimizationalgorithmscomparison import functions, optimizationMethods, stopCriterions, comparison\n",
    "import numpy as np"
   ]
  },
  {
   "cell_type": "code",
   "execution_count": 2,
   "metadata": {
    "pycharm": {
     "name": "#%%\n"
    }
   },
   "outputs": [],
   "source": [
    "x0_1d = np.array([[100.]])\n",
    "A2 = np.array([[2.]])\n",
    "B2 = np.array([[3.]])\n",
    "C2 = np.array([[1.]])\n",
    "\n",
    "x0_2d_1 = np.array([[30.], [8.]])\n",
    "x0_2d_2 = np.array([[41.], [30.]])\n",
    "x0_2d_3 = np.array([[5.], [21.]])\n",
    "A = np.array([[1.0, 2.0], [2.0, 1.0]])\n",
    "B = np.array([[2.0], [3.0]])\n",
    "C = 5.\n",
    "\n",
    "func_2d = functions.QuadraticFunction(A, B, C)\n",
    "func_1d = functions.QuadraticFunction(A2, B2, C2)\n",
    "\n",
    "method_1 = optimizationMethods.Newton()\n",
    "method_2 = optimizationMethods.GD(step_size=1e-2)\n",
    "method_3 = optimizationMethods.CG()\n",
    "\n",
    "stopper = stopCriterions.FunctionalCriterion(1e-3, func_2d)\n",
    "stopper_arg = stopCriterions.ArgumentalCriterion(1e-3)"
   ]
  },
  {
   "cell_type": "code",
   "execution_count": 9,
   "metadata": {
    "pycharm": {
     "name": "#%%\n"
    }
   },
   "outputs": [
    {
     "ename": "ValueError",
     "evalue": "The truth value of an array with more than one element is ambiguous. Use a.any() or a.all()",
     "output_type": "error",
     "traceback": [
      "\u001B[1;31m---------------------------------------------------------------------------\u001B[0m",
      "\u001B[1;31mValueError\u001B[0m                                Traceback (most recent call last)",
      "\u001B[1;32m<ipython-input-9-6214ef092ee7>\u001B[0m in \u001B[0;36m<module>\u001B[1;34m\u001B[0m\n\u001B[1;32m----> 1\u001B[1;33m \u001B[0mcomparison\u001B[0m\u001B[1;33m.\u001B[0m\u001B[0mcompare\u001B[0m\u001B[1;33m(\u001B[0m\u001B[1;33m[\u001B[0m\u001B[0mmethod_1\u001B[0m\u001B[1;33m,\u001B[0m \u001B[0mmethod_2\u001B[0m\u001B[1;33m,\u001B[0m \u001B[0mmethod_3\u001B[0m\u001B[1;33m]\u001B[0m\u001B[1;33m,\u001B[0m \u001B[0mfunc_2d\u001B[0m\u001B[1;33m,\u001B[0m \u001B[1;33m[\u001B[0m\u001B[0mx0_2d_1\u001B[0m\u001B[1;33m,\u001B[0m \u001B[0mx0_2d_2\u001B[0m\u001B[1;33m,\u001B[0m \u001B[0mx0_2d_3\u001B[0m\u001B[1;33m]\u001B[0m\u001B[1;33m,\u001B[0m \u001B[0mstopper\u001B[0m\u001B[1;33m)\u001B[0m\u001B[1;33m\u001B[0m\u001B[1;33m\u001B[0m\u001B[0m\n\u001B[0m\u001B[0;32m      2\u001B[0m \u001B[1;33m\u001B[0m\u001B[0m\n",
      "\u001B[1;32mc:\\users\\xiaomi\\appdata\\local\\programs\\python\\python38\\lib\\site-packages\\optimizationalgorithmscomparison\\comparison.py\u001B[0m in \u001B[0;36mcompare\u001B[1;34m(methods, target, x_0, stop_criterion)\u001B[0m\n\u001B[0;32m     50\u001B[0m                 \u001B[0mgradients\u001B[0m \u001B[1;33m=\u001B[0m \u001B[0mnumber_of_iterations\u001B[0m\u001B[1;33m\u001B[0m\u001B[1;33m\u001B[0m\u001B[0m\n\u001B[0;32m     51\u001B[0m             \u001B[1;32mif\u001B[0m \u001B[0mmethod\u001B[0m\u001B[1;33m.\u001B[0m\u001B[0mname\u001B[0m \u001B[1;33m==\u001B[0m \u001B[1;34m\"Newton\"\u001B[0m\u001B[1;33m:\u001B[0m\u001B[1;33m\u001B[0m\u001B[1;33m\u001B[0m\u001B[0m\n\u001B[1;32m---> 52\u001B[1;33m                 \u001B[0mhessians\u001B[0m \u001B[1;33m=\u001B[0m \u001B[0mnumber_of_iterations\u001B[0m\u001B[1;33m\u001B[0m\u001B[1;33m\u001B[0m\u001B[0m\n\u001B[0m\u001B[0;32m     53\u001B[0m \u001B[1;33m\u001B[0m\u001B[0m\n\u001B[0;32m     54\u001B[0m             \u001B[0mprint\u001B[0m\u001B[1;33m(\u001B[0m\u001B[1;33m[\u001B[0m\u001B[0mmethod\u001B[0m\u001B[1;33m.\u001B[0m\u001B[0mname\u001B[0m\u001B[1;33m,\u001B[0m \u001B[0mx0\u001B[0m\u001B[1;33m,\u001B[0m \u001B[0mnumber_of_iterations\u001B[0m\u001B[1;33m,\u001B[0m \u001B[0mgradients\u001B[0m\u001B[1;33m,\u001B[0m \u001B[0mhessians\u001B[0m\u001B[1;33m,\u001B[0m \u001B[0mmin\u001B[0m\u001B[1;33m(\u001B[0m\u001B[0my_data\u001B[0m\u001B[1;33m)\u001B[0m\u001B[1;33m]\u001B[0m\u001B[1;33m)\u001B[0m\u001B[1;33m\u001B[0m\u001B[1;33m\u001B[0m\u001B[0m\n",
      "\u001B[1;31mValueError\u001B[0m: The truth value of an array with more than one element is ambiguous. Use a.any() or a.all()"
     ]
    }
   ],
   "source": [
    "comparison.compare([method_1, method_2, method_3], func_2d, [x0_2d_1, x0_2d_2, x0_2d_3], stopper)"
   ]
  },
  {
   "cell_type": "code",
   "execution_count": null,
   "outputs": [],
   "source": [
    "optimization_path = np.array([[[4.],[5.]], [[2.], [3.]],[[1.],[2.]]])\n",
    "comparison.iterative_visualization(func_2d, method_2, optimization_path, 3)"
   ],
   "metadata": {
    "collapsed": false,
    "pycharm": {
     "name": "#%%\n"
    }
   }
  },
  {
   "cell_type": "code",
   "execution_count": 5,
   "outputs": [],
   "source": [
    "import pandas as pd\n",
    "\n",
    "cols = ['method', 'starting point', 'iterations', 'gradient calculations', 'hessian calculations',\n",
    "            'function minimum']\n",
    "\n",
    "df_tmp = pd.DataFrame([[method_1.name, x0_2d_1, 24, 11, 11, 321]],\n",
    "                                  columns=cols)\n"
   ],
   "metadata": {
    "collapsed": false,
    "pycharm": {
     "name": "#%%\n"
    }
   }
  },
  {
   "cell_type": "code",
   "execution_count": 6,
   "outputs": [
    {
     "name": "stdout",
     "output_type": "stream",
     "text": [
      "   method   starting point  iterations  gradient calculations  \\\n",
      "0  Newton  [[30.0], [8.0]]          24                     11   \n",
      "\n",
      "   hessian calculations  function minimum  \n",
      "0                    11               321  \n"
     ]
    }
   ],
   "source": [
    "print(df_tmp)\n"
   ],
   "metadata": {
    "collapsed": false,
    "pycharm": {
     "name": "#%%\n"
    }
   }
  }
 ],
 "metadata": {
  "kernelspec": {
   "display_name": "Python 3",
   "language": "python",
   "name": "python3"
  },
  "language_info": {
   "codemirror_mode": {
    "name": "ipython",
    "version": 3
   },
   "file_extension": ".py",
   "mimetype": "text/x-python",
   "name": "python",
   "nbconvert_exporter": "python",
   "pygments_lexer": "ipython3",
   "version": "3.8.0"
  }
 },
 "nbformat": 4,
 "nbformat_minor": 1
}